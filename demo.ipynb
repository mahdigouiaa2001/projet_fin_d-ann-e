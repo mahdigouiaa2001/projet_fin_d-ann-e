{
  "cells": [
    {
      "cell_type": "markdown",
      "metadata": {
        "colab_type": "text",
        "id": "view-in-github"
      },
      "source": [
        "<a href=\"https://colab.research.google.com/github/tgalkovskyi/deep-text-recognition-benchmark/blob/master/demo.ipynb\" target=\"_parent\"><img src=\"https://colab.research.google.com/assets/colab-badge.svg\" alt=\"Open In Colab\"/></a>"
      ]
    },
    {
      "cell_type": "markdown",
      "metadata": {
        "colab_type": "text",
        "id": "dHbHK60Tqn2c"
      },
      "source": [
        "This can be executed in https://colab.research.google.com \"Python 3 / GPU\" runtime."
      ]
    },
    {
      "cell_type": "code",
      "execution_count": 3,
      "metadata": {
        "colab": {
          "base_uri": "https://localhost:8080/",
          "height": 153
        },
        "colab_type": "code",
        "id": "Pi-PA14AhdK-",
        "outputId": "5d620547-6ce9-42b9-8206-20f88f23e567"
      },
      "outputs": [
        {
          "name": "stdout",
          "output_type": "stream",
          "text": [
            "Cloning into 'deep-text-recognition-benchmark'...\n",
            "remote: Enumerating objects: 40, done.\u001b[K\n",
            "remote: Counting objects: 100% (40/40), done.\u001b[K\n",
            "remote: Compressing objects: 100% (35/35), done.\u001b[K\n",
            "remote: Total 376 (delta 20), reused 13 (delta 5), pack-reused 336\u001b[K\n",
            "Receiving objects: 100% (376/376), 2.43 MiB | 2.61 MiB/s, done.\n",
            "Resolving deltas: 100% (222/222), done.\n",
            "/content/deep-text-recognition-benchmark\n"
          ]
        }
      ],
      "source": [
        "!git clone https://github.com/clovaai/deep-text-recognition-benchmark\n",
        "%cd deep-text-recognition-benchmark"
      ]
    },
    {
      "cell_type": "markdown",
      "metadata": {
        "colab_type": "text",
        "id": "jX-ucvimlaFZ"
      },
      "source": [
        "Next, download large model files from Google Drive, using hack: https://stackoverflow.com/questions/20665881/direct-download-from-google-drive-using-google-drive-api/32742700#32742700"
      ]
    },
    {
      "cell_type": "code",
      "execution_count": 17,
      "metadata": {
        "colab": {
          "base_uri": "https://localhost:8080/",
          "height": 833
        },
        "colab_type": "code",
        "id": "9eEhhPBshkjr",
        "outputId": "205d0bd8-340f-4e9b-ebfd-e9c8f7d327a0"
      },
      "outputs": [
        {
          "name": "stdout",
          "output_type": "stream",
          "text": [
            "  % Total    % Received % Xferd  Average Speed   Time    Time     Time  Current\n",
            "                                 Dload  Upload   Total   Spent    Left  Speed\n",
            "100  3263    0  3263    0     0  13264      0 --:--:-- --:--:-- --:--:-- 13210\n",
            "  % Total    % Received % Xferd  Average Speed   Time    Time     Time  Current\n",
            "                                 Dload  Upload   Total   Spent    Left  Speed\n",
            "100   388    0   388    0     0   1644      0 --:--:-- --:--:-- --:--:--  1644\n",
            "100  186M    0  186M    0     0  79.9M      0 --:--:--  0:00:02 --:--:--  104M\n",
            "  % Total    % Received % Xferd  Average Speed   Time    Time     Time  Current\n",
            "                                 Dload  Upload   Total   Spent    Left  Speed\n",
            "100   388    0   388    0     0    203      0 --:--:--  0:00:01 --:--:--   203\n",
            "  % Total    % Received % Xferd  Average Speed   Time    Time     Time  Current\n",
            "                                 Dload  Upload   Total   Spent    Left  Speed\n",
            "  0     0    0     0    0     0      0      0 --:--:-- --:--:-- --:--:--     0\n",
            "100 64576    0 64576    0     0   211k      0 --:--:-- --:--:-- --:--:--  211k\n",
            "  % Total    % Received % Xferd  Average Speed   Time    Time     Time  Current\n",
            "                                 Dload  Upload   Total   Spent    Left  Speed\n",
            "100   388    0   388    0     0    180      0 --:--:--  0:00:02 --:--:--   180\n",
            "  % Total    % Received % Xferd  Average Speed   Time    Time     Time  Current\n",
            "                                 Dload  Upload   Total   Spent    Left  Speed\n",
            "  0     0    0     0    0     0      0      0 --:--:-- --:--:-- --:--:--     0\n",
            "100 64696    0 64696    0     0   218k      0 --:--:-- --:--:-- --:--:--  218k\n",
            "  % Total    % Received % Xferd  Average Speed   Time    Time     Time  Current\n",
            "                                 Dload  Upload   Total   Spent    Left  Speed\n",
            "100  3279    0  3279    0     0  11153      0 --:--:-- --:--:-- --:--:-- 11153\n",
            "  % Total    % Received % Xferd  Average Speed   Time    Time     Time  Current\n",
            "                                 Dload  Upload   Total   Spent    Left  Speed\n",
            "100   388    0   388    0     0   1216      0 --:--:-- --:--:-- --:--:--  1212\n",
            "100  189M    0  189M    0     0  84.3M      0 --:--:--  0:00:02 --:--:--  111M\n",
            "  % Total    % Received % Xferd  Average Speed   Time    Time     Time  Current\n",
            "                                 Dload  Upload   Total   Spent    Left  Speed\n",
            "100  3255    0  3255    0     0  11302      0 --:--:-- --:--:-- --:--:-- 11302\n",
            "  % Total    % Received % Xferd  Average Speed   Time    Time     Time  Current\n",
            "                                 Dload  Upload   Total   Spent    Left  Speed\n",
            "100   388    0   388    0     0   1464      0 --:--:-- --:--:-- --:--:--  1464\n",
            "100  189M    0  189M    0     0  72.5M      0 --:--:--  0:00:02 --:--:-- 88.8M\n",
            "  % Total    % Received % Xferd  Average Speed   Time    Time     Time  Current\n",
            "                                 Dload  Upload   Total   Spent    Left  Speed\n",
            "100  3263    0  3263    0     0  13052      0 --:--:-- --:--:-- --:--:-- 13052\n",
            "  % Total    % Received % Xferd  Average Speed   Time    Time     Time  Current\n",
            "                                 Dload  Upload   Total   Spent    Left  Speed\n",
            "100   388    0   388    0     0   1644      0 --:--:-- --:--:-- --:--:--  1644\n",
            "100  186M    0  186M    0     0   124M      0 --:--:--  0:00:01 --:--:--  176M\n",
            "-rw-r--r-- 1 root root 195888589 Oct 27 14:16 None-ResNet-None-CTC.pth\n",
            "-rw-r--r-- 1 root root     64576 Oct 27 14:17 None-VGG-BiLSTM-CTC.pth\n",
            "-rw-r--r-- 1 root root     64696 Oct 27 14:17 None-VGG-None-CTC.pth\n",
            "-rw-r--r-- 1 root root 198975977 Oct 27 14:17 TPS-ResNet-BiLSTM-Attn-case-sensitive.pth\n",
            "-rw-r--r-- 1 root root 198678680 Oct 27 14:17 TPS-ResNet-BiLSTM-Attn.pth\n",
            "-rw-r--r-- 1 root root 195888589 Oct 27 14:17 TPS-ResNet-BiLSTM-CTC.pth\n"
          ]
        }
      ],
      "source": [
        "models = {\n",
        "    'None-ResNet-None-CTC.pth': 'https://drive.google.com/open?id=1FocnxQzFBIjDT2F9BkNUiLdo1cC3eaO0',\n",
        "    'None-VGG-BiLSTM-CTC.pth': 'https://drive.google.com/open?id=1GGC2IRYEMQviZhqQpbtpeTgHO_IXWetG',\n",
        "    'None-VGG-None-CTC.pth': 'https://drive.google.com/open?id=1FS3aZevvLiGF1PFBm5SkwvVcgI6hJWL9',\n",
        "    'TPS-ResNet-BiLSTM-Attn-case-sensitive.pth': 'https://drive.google.com/open?id=1ajONZOgiG9pEYsQ-eBmgkVbMDuHgPCaY',\n",
        "    'TPS-ResNet-BiLSTM-Attn.pth': 'https://drive.google.com/open?id=1b59rXuGGmKne1AuHnkgDzoYgKeETNMv9',\n",
        "    'TPS-ResNet-BiLSTM-CTC.pth': 'https://drive.google.com/open?id=1FocnxQzFBIjDT2F9BkNUiLdo1cC3eaO0',\n",
        "}\n",
        "\n",
        "for k, v in models.items():\n",
        "  doc_id = v[v.find('=')+1:]\n",
        "  !curl -c /tmp/cookies \"https://drive.google.com/uc?export=download&id=$doc_id\" > /tmp/intermezzo.html\n",
        "  !curl -L -b /tmp/cookies \"https://drive.google.com$(cat /tmp/intermezzo.html | grep -Po 'uc-download-link\" [^>]* href=\"\\K[^\"]*' | sed 's/\\&amp;/\\&/g')\" > $k\n",
        "\n",
        "!ls -al *.pth"
      ]
    },
    {
      "cell_type": "code",
      "execution_count": 4,
      "metadata": {
        "colab": {},
        "colab_type": "code",
        "id": "s-E716WnhfrI"
      },
      "outputs": [],
      "source": [
        "output = !CUDA_VISIBLE_DEVICES=0 python3 demo.py \\\n",
        "--Transformation TPS --FeatureExtraction ResNet --SequenceModeling BiLSTM --Prediction Attn \\\n",
        "--image_folder demo_image/test \\\n",
        "--saved_model TPS-ResNet-BiLSTM-Attn.pth"
      ]
    },
    {
      "cell_type": "code",
      "execution_count": 5,
      "metadata": {
        "colab": {
          "base_uri": "https://localhost:8080/",
          "height": 1000
        },
        "colab_type": "code",
        "id": "bJRPln2QlxlJ",
        "outputId": "a81e0b6b-8171-49a6-c59f-15649d7c6bb8"
      },
      "outputs": [
        {
          "name": "stderr",
          "output_type": "stream",
          "text": [
            "C:\\Users\\21697\\AppData\\Local\\Temp\\ipykernel_15824\\3304868153.py:1: DeprecationWarning: Importing display from IPython.core.display is deprecated since IPython 7.14, please import from IPython display\n",
            "  from IPython.core.display import display, HTML\n"
          ]
        },
        {
          "ename": "ValueError",
          "evalue": "'image_path               \\tpredicted_labels         \\tconfidence score' is not in list",
          "output_type": "error",
          "traceback": [
            "\u001b[1;31m---------------------------------------------------------------------------\u001b[0m",
            "\u001b[1;31mValueError\u001b[0m                                Traceback (most recent call last)",
            "Cell \u001b[1;32mIn[5], line 8\u001b[0m\n\u001b[0;32m      5\u001b[0m \u001b[38;5;28;01mimport\u001b[39;00m \u001b[38;5;21;01mpandas\u001b[39;00m \u001b[38;5;28;01mas\u001b[39;00m \u001b[38;5;21;01mpd\u001b[39;00m\n\u001b[0;32m      7\u001b[0m data \u001b[38;5;241m=\u001b[39m pd\u001b[38;5;241m.\u001b[39mDataFrame()\n\u001b[1;32m----> 8\u001b[0m \u001b[38;5;28;01mfor\u001b[39;00m ind, row \u001b[38;5;129;01min\u001b[39;00m \u001b[38;5;28menumerate\u001b[39m(output[\u001b[43moutput\u001b[49m\u001b[38;5;241;43m.\u001b[39;49m\u001b[43mindex\u001b[49m\u001b[43m(\u001b[49m\u001b[38;5;124;43m'\u001b[39;49m\u001b[38;5;124;43mimage_path               \u001b[39;49m\u001b[38;5;130;43;01m\\t\u001b[39;49;00m\u001b[38;5;124;43mpredicted_labels         \u001b[39;49m\u001b[38;5;130;43;01m\\t\u001b[39;49;00m\u001b[38;5;124;43mconfidence score\u001b[39;49m\u001b[38;5;124;43m'\u001b[39;49m\u001b[43m)\u001b[49m\u001b[38;5;241m+\u001b[39m\u001b[38;5;241m2\u001b[39m:]):\n\u001b[0;32m      9\u001b[0m   row \u001b[38;5;241m=\u001b[39m row\u001b[38;5;241m.\u001b[39msplit(\u001b[38;5;124m'\u001b[39m\u001b[38;5;130;01m\\t\u001b[39;00m\u001b[38;5;124m'\u001b[39m)\n\u001b[0;32m     10\u001b[0m   filename \u001b[38;5;241m=\u001b[39m row[\u001b[38;5;241m0\u001b[39m]\u001b[38;5;241m.\u001b[39mstrip()\n",
            "\u001b[1;31mValueError\u001b[0m: 'image_path               \\tpredicted_labels         \\tconfidence score' is not in list"
          ]
        }
      ],
      "source": [
        "from IPython.core.display import display, HTML\n",
        "from PIL import Image\n",
        "import base64\n",
        "import io\n",
        "import pandas as pd\n",
        "\n",
        "data = pd.DataFrame()\n",
        "for ind, row in enumerate(output[output.index('image_path               \\tpredicted_labels         \\tconfidence score')+2:]):\n",
        "  row = row.split('\\t')\n",
        "  filename = row[0].strip()\n",
        "  label = row[1].strip()\n",
        "  conf = row[2].strip()\n",
        "  img = Image.open(filename)\n",
        "  img_buffer = io.BytesIO()\n",
        "  img.save(img_buffer, format=\"PNG\")\n",
        "  imgStr = base64.b64encode(img_buffer.getvalue()).decode(\"utf-8\") \n",
        "\n",
        "  data.loc[ind, 'img'] = '<img src=\"data:image/png;base64,{0:s}\">'.format(imgStr)\n",
        "  data.loc[ind, 'id'] = filename\n",
        "  data.loc[ind, 'label'] = label\n",
        "  data.loc[ind, 'conf'] = conf\n",
        "\n",
        "html_all = data.to_html(escape=False)\n",
        "display(HTML(html_all))"
      ]
    }
  ],
  "metadata": {
    "accelerator": "GPU",
    "colab": {
      "collapsed_sections": [],
      "include_colab_link": true,
      "name": "deep-text-recognition-benchmark.ipynb",
      "provenance": []
    },
    "kernelspec": {
      "display_name": "Python 3",
      "name": "python3"
    },
    "language_info": {
      "codemirror_mode": {
        "name": "ipython",
        "version": 3
      },
      "file_extension": ".py",
      "mimetype": "text/x-python",
      "name": "python",
      "nbconvert_exporter": "python",
      "pygments_lexer": "ipython3",
      "version": "3.12.2"
    }
  },
  "nbformat": 4,
  "nbformat_minor": 0
}
